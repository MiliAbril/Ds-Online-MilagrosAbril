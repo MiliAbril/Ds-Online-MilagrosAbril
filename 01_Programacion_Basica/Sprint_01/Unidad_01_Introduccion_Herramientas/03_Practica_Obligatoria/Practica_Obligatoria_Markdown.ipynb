{
 "cells": [
  {
   "cell_type": "markdown",
   "id": "f91d2563-85c1-444c-a812-aa2b5a0830d1",
   "metadata": {},
   "source": [
    "# Ejercicio 1"
   ]
  },
  {
   "cell_type": "markdown",
   "id": "7ac98cf1-f222-4a7f-9d30-f539fc73f894",
   "metadata": {},
   "source": [
    "### Aptitudes en Data Science\n",
    ">**Lo más importante**\n",
    "> - Matemáticas\n",
    "> - Python\n",
    "> - SQL  \n",
    ">![logo](./img/python.png)\n",
    ">\n",
    ">Otro tema muy importante es la ***Estadística.***\n",
    ">\n",
    ">Si tienes dudas, puedes escribirnos a: ta_ds_online@thebridgeschool.es\n",
    ">\n",
    ">Y en esta web se aprende mucho sobre *Machine Learning*: [**Kaggle**](https://www.kaggle.com/)"
   ]
  },
  {
   "cell_type": "markdown",
   "id": "ea1ad896-5e6f-4603-82c0-53c90b27ab66",
   "metadata": {},
   "source": [
    "# Ejercicio 2"
   ]
  },
  {
   "cell_type": "markdown",
   "id": "9fae4469-79d5-4ec3-9991-852a53a80fa4",
   "metadata": {},
   "source": [
    "|Fundamentasl|Data Analysis|Machine Learning|Data & Business|\n",
    "|:---:|:---:|:---:|:---:|\n",
    "|Jupyter|SQL|Supervisado|API|\n",
    "|GitHub|Estadística|No Supervisado|Despliegue|\n",
    "|Python|EDA|Deep Learning|Cloud Computing|"
   ]
  },
  {
   "cell_type": "markdown",
   "id": "654700a8-8e10-4c94-b63d-ad0e784dc455",
   "metadata": {},
   "source": [
    "<center> $\\sqrt{3x-1}+(1+x)^2$ </center>"
   ]
  },
  {
   "cell_type": "markdown",
   "id": "136a5e09-122a-41fc-b6fd-f54621c3333e",
   "metadata": {},
   "source": [
    "<div align = \"center\">\n",
    "$\\sqrt{3x-1}+(1+x)^2$\n",
    "</div>"
   ]
  },
  {
   "cell_type": "markdown",
   "id": "a3722bf1-8e47-49d6-ae15-13b85f2f65c6",
   "metadata": {},
   "source": [
    "$$\\sqrt{3x-1}+(1+x)^2$$"
   ]
  },
  {
   "cell_type": "code",
   "execution_count": null,
   "id": "e87eaf63-eac8-4feb-9e0c-cf4a826165ce",
   "metadata": {},
   "outputs": [],
   "source": []
  }
 ],
 "metadata": {
  "kernelspec": {
   "display_name": "Python 3 (ipykernel)",
   "language": "python",
   "name": "python3"
  },
  "language_info": {
   "codemirror_mode": {
    "name": "ipython",
    "version": 3
   },
   "file_extension": ".py",
   "mimetype": "text/x-python",
   "name": "python",
   "nbconvert_exporter": "python",
   "pygments_lexer": "ipython3",
   "version": "3.12.10"
  }
 },
 "nbformat": 4,
 "nbformat_minor": 5
}
