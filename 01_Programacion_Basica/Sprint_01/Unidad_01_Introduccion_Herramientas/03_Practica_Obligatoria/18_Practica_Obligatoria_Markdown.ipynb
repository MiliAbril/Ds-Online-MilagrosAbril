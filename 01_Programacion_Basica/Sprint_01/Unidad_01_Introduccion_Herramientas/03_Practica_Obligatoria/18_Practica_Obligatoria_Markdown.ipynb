{
 "cells": [
  {
   "cell_type": "markdown",
   "metadata": {},
   "source": [
    "# PRACTICA OBLIGATORIA: **Markdown**\n"
   ]
  },
  {
   "cell_type": "markdown",
   "metadata": {},
   "source": [
    "* La práctica obligatoria de esta unidad consiste en dos ejercicios de Markdown en Jupyter. Descarga este notebook en tu ordenador y trabaja en local.  \n",
    "* Recuerda que debes subirla a tu repositorio personal antes de la sesión en vivo para que puntúe adecuadamente.  \n",
    "* Recuerda también que no es necesario que esté perfecta, sólo es necesario que se vea el esfuerzo. \n",
    "* Esta práctica se resolverá en la sesión en vivo correspondiente y la solución se publicará en el repo del curso. "
   ]
  },
  {
   "cell_type": "markdown",
   "metadata": {},
   "source": [
    "## Ejercicio 1  \n",
    "\n",
    "Vamos a aplicar los conocimientos adquiridos en esta unidad intentando reproducir la imagen inferior en una celda con sintaxis de Markdown.  \n",
    "\n",
    "Ten en cuenta lo siguiente:\n",
    "- El link (o hipervínculo) debe conducir a la página: https://www.kaggle.com/\n",
    "- El isotipo de Python lo tienes en el directorio `/img`\n",
    "\n",
    "**Importante:** La captura se ha realizado en Jupyter con tema de entorno claro (JupyterLab Light). No es necesario forzar el fondo blanco, ya que la renderización de Markdown puede cambiar mucho según donde lo estemos visualizando (Jupyter, VSCode, GitHub).  \n",
    "\n",
    "**TIP**: En [este enlace](https://www.markdownguide.org/basic-syntax/) tienes más ejemplos, por si te atascas con algo :)"
   ]
  },
  {
   "attachments": {},
   "cell_type": "markdown",
   "metadata": {},
   "source": [
    "<div style=\"text-align:left\"><img src=\"./img/md_ejercicio_1.png\" /></div>"
   ]
  },
  {
   "cell_type": "markdown",
   "metadata": {},
   "source": [
    "## Ejercicio 2  \n",
    "\n",
    "Para este ejercicio vas a crear dos nuevos elementos que no hemos visto en la teoría, tendrás que buscar en internet cómo hacer:\n",
    "1) Una tabla\n",
    "2) Una fórmula\n",
    "\n",
    "Busca su sintaxis en la web y replica ambos elementos según se muestra en la imagen inferior.\n",
    "\n",
    "**Importante:** La captura se ha realizado en Jupyter con tema de entorno claro (JupyterLab Light). No es necesario forzar el fondo blanco o la tira gris, ya que la renderización de Markdown puede cambiar mucho según donde lo estemos visualizando (Jupyter, VSCode, GitHub). **Por otro lado, sí puedes buscar como centrar ambos elementos, si quieres.**  \n"
   ]
  },
  {
   "cell_type": "markdown",
   "metadata": {},
   "source": [
    "<div style=\"text-align:center\"><img src=\"./img/md_ejercicio_2.png\" /></div>"
   ]
  }
 ],
 "metadata": {
  "kernelspec": {
   "display_name": "Python 3 (ipykernel)",
   "language": "python",
   "name": "python3"
  },
  "language_info": {
   "codemirror_mode": {
    "name": "ipython",
    "version": 3
   },
   "file_extension": ".py",
   "mimetype": "text/x-python",
   "name": "python",
   "nbconvert_exporter": "python",
   "pygments_lexer": "ipython3",
   "version": "3.12.10"
  },
  "vscode": {
   "interpreter": {
    "hash": "90139cb9a825bf3d63f6f6704e828dbd1ff7edbd4d0c6e906a71235d6efc74af"
   }
  }
 },
 "nbformat": 4,
 "nbformat_minor": 4
}
