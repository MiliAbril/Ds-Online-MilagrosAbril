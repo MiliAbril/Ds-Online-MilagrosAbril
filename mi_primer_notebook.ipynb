{
 "cells": [
  {
   "cell_type": "code",
   "execution_count": null,
   "id": "6615bec0-a1c4-4d62-b5e2-2543ea9f7e5e",
   "metadata": {},
   "outputs": [],
   "source": [
    "print(\"Hola mundo\")"
   ]
  },
  {
   "cell_type": "raw",
   "id": "ea178af3-fada-4d05-abe5-0509a6f267db",
   "metadata": {},
   "source": [
    "Hola Mundo"
   ]
  },
  {
   "cell_type": "markdown",
   "id": "83d5294c-4a65-4ec4-a393-9e108cc2d182",
   "metadata": {},
   "source": [
    "\"Hola mundo\""
   ]
  },
  {
   "cell_type": "markdown",
   "id": "619376c1-3987-4d3a-b516-1057e30081c9",
   "metadata": {},
   "source": [
    "Hola mundo"
   ]
  },
  {
   "cell_type": "code",
   "execution_count": null,
   "id": "fb650f08-edc8-483d-a134-b0f25246f5ef",
   "metadata": {},
   "outputs": [],
   "source": []
  }
 ],
 "metadata": {
  "kernelspec": {
   "display_name": "Python 3 (ipykernel)",
   "language": "python",
   "name": "python3"
  },
  "language_info": {
   "codemirror_mode": {
    "name": "ipython",
    "version": 3
   },
   "file_extension": ".py",
   "mimetype": "text/x-python",
   "name": "python",
   "nbconvert_exporter": "python",
   "pygments_lexer": "ipython3",
   "version": "3.12.10"
  }
 },
 "nbformat": 4,
 "nbformat_minor": 5
}
